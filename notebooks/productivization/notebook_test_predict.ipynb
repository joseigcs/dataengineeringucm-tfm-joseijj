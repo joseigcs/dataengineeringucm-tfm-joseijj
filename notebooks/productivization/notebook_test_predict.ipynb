{
 "cells": [
  {
   "cell_type": "markdown",
   "id": "c7acb03d",
   "metadata": {},
   "source": [
    "### Notebook para probar el correcto funcionamiento del microservicio. "
   ]
  },
  {
   "cell_type": "code",
   "execution_count": 28,
   "id": "10de0333",
   "metadata": {},
   "outputs": [
    {
     "name": "stdout",
     "output_type": "stream",
     "text": [
      "{'predictions': [5.176673856530716, 5.181611525241021]}\n"
     ]
    }
   ],
   "source": [
    "import requests\n",
    "import json\n",
    "import pandas as pd\n",
    "from sklearn.preprocessing import StandardScaler\n",
    "\n",
    "scaler = StandardScaler()\n",
    "\n",
    "new_data = pd.DataFrame({\n",
    "    'Log_Adj_Close_Lag1': [5.198497, 5.198497],\n",
    "    'Log_Volume_Lag1': [12.234, 12.234],\n",
    "    'Log_7_day_moving_avg_Lag1': [4.763548, 4.763548],\n",
    "    'daily_return_Lag1': [0.0256, 0.0256],\n",
    "    'Three_Component_Index': [180.12, 180.12],\n",
    "    'year': [2023, 2023],\n",
    "    'month': [9, 10],\n",
    "    'monthly_close': [197.8, 197.8],\n",
    "    'monthly_volume': [9.82e+05, 9.82e+05]\n",
    "})\n",
    "\n",
    "# Aplicar el StandardScaler a los nuevos datos\n",
    "new_data_scaled = pd.DataFrame(scaler.fit_transform(new_data), columns=new_data.columns)\n",
    "\n",
    "# Convertir los datos estandarizados a formato JSON\n",
    "data = {\n",
    "    \"data\": new_data_scaled.values.tolist()\n",
    "}\n",
    "\n",
    "# Enviar la solicitud POST con los datos estandarizados\n",
    "url = 'http://localhost:8080/predict'\n",
    "response = requests.post(url, headers={\"Content-Type\": \"application/json\"}, data=json.dumps(data))\n",
    "print(response.json())"
   ]
  },
  {
   "cell_type": "code",
   "execution_count": null,
   "id": "095404f5",
   "metadata": {},
   "outputs": [],
   "source": []
  }
 ],
 "metadata": {
  "kernelspec": {
   "display_name": "Python (mlflow_env)",
   "language": "python",
   "name": "mlflow_env"
  },
  "language_info": {
   "codemirror_mode": {
    "name": "ipython",
    "version": 3
   },
   "file_extension": ".py",
   "mimetype": "text/x-python",
   "name": "python",
   "nbconvert_exporter": "python",
   "pygments_lexer": "ipython3",
   "version": "3.8.19"
  }
 },
 "nbformat": 4,
 "nbformat_minor": 5
}
