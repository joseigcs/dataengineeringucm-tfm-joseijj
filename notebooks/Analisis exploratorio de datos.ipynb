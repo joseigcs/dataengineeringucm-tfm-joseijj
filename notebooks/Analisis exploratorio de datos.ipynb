{
  "nbformat": 4,
  "nbformat_minor": 2,
  "cells": [
    {
      "cell_type": "markdown",
      "metadata": {
        "nteract": {
          "transient": {
            "deleting": false
          }
        }
      },
      "source": [
        "## Análisis exploratorio de datos\r\n",
        "Esta notebook debe ser ejecutada en Azure Synapse. Muestra las relaciones más influyentes entre las variables, para realizar el modelaje más adecuado."
      ]
    },
    {
      "cell_type": "code",
      "execution_count": null,
      "outputs": [],
      "metadata": {
        "jupyter": {
          "source_hidden": false,
          "outputs_hidden": false
        },
        "nteract": {
          "transient": {
            "deleting": false
          }
        }
      },
      "source": [
        "# Variables\n",
        "asset = 'apple'   \n",
        " \n",
        "storage_account_name = 'nticmasterstg' \n",
        "data_lake_container = f'abfss://datalake@{storage_account_name}.dfs.core.windows.net' \n",
        "gold_folder = 'gold' # Directorio final\n",
        "\n",
        "gold_table_path = f\"{data_lake_container}/{gold_folder}/{asset}\" "
      ]
    },
    {
      "cell_type": "code",
      "execution_count": null,
      "outputs": [],
      "metadata": {},
      "source": [
        "import pandas as pd\n",
        "import matplotlib.pyplot as plt\n",
        "import seaborn as sns\n",
        "\n",
        "data = spark.read.format(\"delta\").load(gold_table_path)\n",
        "\n",
        "data = data.toPandas()\n",
        "\n",
        "# 1. Descripción general\n",
        "print(\"Primeras filas del dataset:\")\n",
        "print(data.head())\n",
        "\n",
        "print(\"\\nInformación general del dataset:\")\n",
        "print(data.info())\n",
        "\n",
        "print(\"\\nCantidad de valores nulos por columna:\")\n",
        "print(data.isnull().sum())\n",
        "\n",
        "# 2. Estadísticas descriptivas\n",
        "print(\"\\nEstadísticas descriptivas:\")\n",
        "print(data.describe())\n",
        "\n",
        "# 3. Visualización de datos\n",
        "\n",
        "# Histograma de precios de cierre ajustado\n",
        "plt.figure(figsize=(10, 6))\n",
        "sns.histplot(data['Adj_Close'], bins=30, kde=True)\n",
        "plt.title('Distribución del Precio de Cierre Ajustado')\n",
        "plt.xlabel('Adj Close')\n",
        "plt.ylabel('Frecuencia')\n",
        "plt.show()\n",
        "\n",
        "# Boxplot para detectar valores atípicos en precios de cierre ajustado\n",
        "plt.figure(figsize=(10, 6))\n",
        "sns.boxplot(x=data['Adj_Close'])\n",
        "plt.title('Boxplot del Precio de Cierre Ajustado')\n",
        "plt.xlabel('Adj Close')\n",
        "plt.show()\n",
        "\n",
        "# Gráfico de líneas del precio de cierre ajustado a lo largo del tiempo\n",
        "plt.figure(figsize=(14, 7))\n",
        "plt.plot(data['Date'], data['Adj_Close'])\n",
        "plt.title('Precio de Cierre Ajustado a lo Largo del Tiempo')\n",
        "plt.xlabel('Fecha')\n",
        "plt.ylabel('Adj Close')\n",
        "plt.xticks(rotation=45)\n",
        "plt.show()\n",
        "\n",
        "\n",
        "# 4. Análisis de correlación\n",
        "plt.figure(figsize=(12, 8))\n",
        "correlation_matrix = data.corr()\n",
        "sns.heatmap(correlation_matrix, annot=True, cmap='coolwarm')\n",
        "plt.title('Matriz de Correlación')\n",
        "plt.show()\n",
        "\n",
        "# Relaciones entre las variables más relevantes\n",
        "relevant_features = ['Adj_Close', '7_day_moving_avg', '30_day_moving_avg', 'daily_return', 'Volume']\n",
        "sns.pairplot(data[relevant_features])\n",
        "plt.show()\n",
        ""
      ]
    }
  ],
  "metadata": {
    "description": null,
    "save_output": true,
    "language_info": {
      "name": "python"
    }
  }
}