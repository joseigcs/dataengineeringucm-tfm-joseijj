{
  "nbformat": 4,
  "nbformat_minor": 2,
  "metadata": {
    "language_info": {
      "name": "python"
    },
    "kernelspec": {
      "name": "synapse_pyspark",
      "display_name": "python"
    },
    "description": null,
    "save_output": true,
    "synapse_widget": {
      "version": "0.1",
      "state": {}
    }
  },
  "cells": [
    {
      "cell_type": "markdown",
      "metadata": {
        "nteract": {
          "transient": {
            "deleting": false
          }
        }
      },
      "source": [
        "#  Raw to bronze notebook\n",
        "\n",
        "En esta notebook denominada RawToBronze simplemente copiamos la información de los datos de acciones mediante la API yfinance, y se almacena en la capa Bronze del data lake. En esta etapa, se configura el ticker de la acción de Apple para obtener los datos financieros diarios, que incluyen información como la apertura, cierre, máximo, mínimo, volumen de transacciones, y la fecha. Esta notebook debe ser ejecutada en Azure Synapse.\n",
        "\n",
        "## Parámetros\n",
        "- **Asset (str)**: Indica el activo financiero que se desea analizar. Es el nombre del directorio en el que se guardará. 'apple' es el valor por defecto.\n",
        "- **Ticker (str)**: Indica el nombre del activo financiero en la API de yfinance. 'AAPL' es el activo por defecto.\n",
        "- **start_date (str)**: Fecha de inicio del rango de datos en formato 'YYYY-MM-DD'. Por defecto, es \"2023-01-01\".\n",
        "- **end_date (str)**: Fecha de fin del rango de datos en formato 'YYYY-MM-DD'.Si no se proporciona, se utiliza la fecha del día anterior al actual."
      ]
    },
    {
      "cell_type": "code",
      "execution_count": null,
      "outputs": [],
      "metadata": {
        "jupyter": {
          "source_hidden": false,
          "outputs_hidden": false
        },
        "nteract": {
          "transient": {
            "deleting": false
          }
        },
        "tags": [
          "parameters"
        ]
      },
      "source": [
        "# Parameters\n",
        "asset = \"apple\"   \n",
        "ticker = \"AAPL\"\n",
        "start_date = \"2023-01-01\"\n",
        "end_date = None"
      ]
    },
    {
      "cell_type": "code",
      "execution_count": null,
      "outputs": [],
      "metadata": {
        "jupyter": {
          "source_hidden": false,
          "outputs_hidden": true
        },
        "nteract": {
          "transient": {
            "deleting": false
          }
        }
      },
      "source": [
        "# En primer lugar, deberemos instalar yfinance si no lo tenemos. Esta es la API de Yahoo Finance, desde la cual podremos obtener la información que deseamos sobre los activos financieros.\n",
        "!pip install yfinance"
      ]
    },
    {
      "cell_type": "code",
      "execution_count": null,
      "outputs": [],
      "metadata": {},
      "source": [
        "from azure.storage.blob import BlobServiceClient, BlobClient, ContainerClient\n",
        "from datetime import datetime, timedelta\n",
        "from delta.tables import DeltaTable \n",
        "import pandas as pd\n",
        "import os\n",
        "import yfinance as yf"
      ]
    },
    {
      "cell_type": "code",
      "execution_count": null,
      "outputs": [],
      "metadata": {
        "jupyter": {
          "source_hidden": false,
          "outputs_hidden": false
        },
        "nteract": {
          "transient": {
            "deleting": false
          }
        }
      },
      "source": [
        "\r\n",
        "def descargar_datos(ticker, start_date=\"2023-01-01\", end_date=None):\r\n",
        "    \"\"\"\r\n",
        "    Descarga datos financieros de un ticker utilizando la librería yfinance.\r\n",
        "\r\n",
        "    Parámetros:\r\n",
        "    ----------\r\n",
        "    ticker : str\r\n",
        "        Símbolo del ticker para el cual se desea descargar los datos (por ejemplo, \"AAPL\" para Apple).\r\n",
        "    \r\n",
        "    start_date : str, opcional\r\n",
        "        Fecha de inicio del rango de datos en formato 'YYYY-MM-DD'. \r\n",
        "        Por defecto, es \"2023-01-01\".\r\n",
        "    \r\n",
        "    end_date : str, opcional\r\n",
        "        Fecha de fin del rango de datos en formato 'YYYY-MM-DD'. \r\n",
        "        Si no se proporciona, se utiliza la fecha del día anterior al actual.\r\n",
        "    \r\n",
        "    Retorna:\r\n",
        "    -------\r\n",
        "    pandas.DataFrame\r\n",
        "        Un DataFrame con los datos financieros del ticker para el rango de fechas especificado.\r\n",
        "\r\n",
        "    Ejemplo:\r\n",
        "    --------\r\n",
        "    >>> datos = descargar_datos(\"AAPL\")\r\n",
        "    >>> print(datos)\r\n",
        "    \"\"\"\r\n",
        "    if end_date is None:\r\n",
        "        end_date = (datetime.now() - timedelta(days=1)).strftime('%Y-%m-%d')\r\n",
        "    \r\n",
        "    data_input = yf.download(ticker, start=start_date, end=end_date)\r\n",
        "    return data_input\r\n",
        ""
      ]
    },
    {
      "cell_type": "code",
      "execution_count": null,
      "outputs": [],
      "metadata": {
        "jupyter": {
          "source_hidden": false,
          "outputs_hidden": false
        },
        "nteract": {
          "transient": {
            "deleting": false
          }
        }
      },
      "source": [
        "container= \"datalake\"\n",
        "storage_account_name = 'nticmasterstg'\n",
        "data_lake_container = f'abfss://{container}@{storage_account_name}.dfs.core.windows.net'\n",
        "landing_folder = 'bronze'  \n",
        "\n",
        "landing_table_path = f\"{data_lake_container}/{landing_folder}/{asset}\"  "
      ]
    },
    {
      "cell_type": "code",
      "execution_count": null,
      "outputs": [],
      "metadata": {
        "jupyter": {
          "source_hidden": false,
          "outputs_hidden": false
        },
        "nteract": {
          "transient": {
            "deleting": false
          }
        }
      },
      "source": [
        "data_input = descargar_datos(ticker, start_date, end_date)\n",
        "\n",
        "# Convertir el índice a datetime, y eliminar el índice para así evitar la pérdida de esta columna al guardar el dataframe en Spark.\n",
        "data_input.index = pd.to_datetime(data_input.index)\n",
        "\n",
        "data_input = data_input.reset_index()\n",
        "\n",
        "data = spark.createDataFrame(data_input)\n",
        "\n",
        "#Aplicamos este bucle para eliminar problemas con los nombres de las columnas al generar el Spark dataframe.\n",
        "nombres_columnas = [col.replace(\" \", \"_\").replace(\",\", \"_\").replace(\";\", \"_\").replace(\"{\", \"_\").replace(\"}\", \"_\")\n",
        "                    .replace(\"(\", \"_\").replace(\")\", \"_\").replace(\"\\n\", \"_\").replace(\"\\t\", \"_\").replace(\"=\", \"_\") \n",
        "                    for col in data.columns]\n",
        "\n",
        "data = data.toDF(*nombres_columnas)"
      ]
    },
    {
      "cell_type": "code",
      "execution_count": null,
      "outputs": [],
      "metadata": {
        "jupyter": {
          "source_hidden": false,
          "outputs_hidden": false
        },
        "nteract": {
          "transient": {
            "deleting": false
          }
        }
      },
      "source": [
        "print('Creando una nueva tabla Delta...') \n",
        "data.write.format('delta').mode(\"overwrite\").save(landing_table_path)\n",
        "print('La tabla {asset} se ha guardado en la ruta {landing_table_path}')\n",
        "\n",
        "delta_df = spark.read.format(\"delta\").load(landing_table_path)\n",
        "print('Mostrando 5 líneas del contenido de la tabla Delta...')\n",
        "delta_df.show(5)\n",
        "\n",
        "conteo_filas = delta_df.count()\n",
        "\n",
        "print(f'La tabla Delta tiene {conteo_filas} filas en total')"
      ]
    }
  ]
}